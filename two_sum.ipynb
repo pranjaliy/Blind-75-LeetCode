{
 "cells": [
  {
   "cell_type": "code",
   "execution_count": 1,
   "metadata": {},
   "outputs": [],
   "source": [
    "def two_sum(arr,target):\n",
    "    for i in range(len(arr)):\n",
    "        new_arr = list(arr[i:])\n",
    "        num = target-new_arr[0]\n",
    "        if num in new_arr[1:]:\n",
    "            print([arr.index(new_arr[0]),arr.index(num)])\n",
    "            break\n",
    "    "
   ]
  },
  {
   "cell_type": "code",
   "execution_count": 2,
   "metadata": {},
   "outputs": [],
   "source": [
    "class Solution:\n",
    "    def twoSum(self, arr, target):\n",
    "        for i in range(len(arr)):\n",
    "            new_arr = list(arr[i:])\n",
    "            num = target-new_arr[0]\n",
    "            if num in new_arr[1:]:\n",
    "                print([arr.index(new_arr[0]),arr.index(num)])\n",
    "                break"
   ]
  },
  {
   "cell_type": "code",
   "execution_count": 3,
   "metadata": {},
   "outputs": [
    {
     "name": "stdout",
     "output_type": "stream",
     "text": [
      "[0, 1]\n"
     ]
    }
   ],
   "source": [
    "two_sum([2,7,11,15],9)"
   ]
  },
  {
   "cell_type": "code",
   "execution_count": null,
   "metadata": {},
   "outputs": [],
   "source": []
  }
 ],
 "metadata": {
  "kernelspec": {
   "display_name": "Python 3",
   "language": "python",
   "name": "python3"
  },
  "language_info": {
   "codemirror_mode": {
    "name": "ipython",
    "version": 3
   },
   "file_extension": ".py",
   "mimetype": "text/x-python",
   "name": "python",
   "nbconvert_exporter": "python",
   "pygments_lexer": "ipython3",
   "version": "3.8.5"
  }
 },
 "nbformat": 4,
 "nbformat_minor": 4
}
